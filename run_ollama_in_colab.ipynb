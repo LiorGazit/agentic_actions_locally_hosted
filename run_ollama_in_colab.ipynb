{
  "cells": [
    {
      "cell_type": "markdown",
      "metadata": {
        "id": "x0MJe6AusVtI"
      },
      "source": [
        "## Run Ollama in Colab\n",
        "<a target=\"_blank\" href=\"https://colab.research.google.com/github/LiorGazit/agentic_actions_locally_hosted/blob/main/run_ollama_in_colab.ipynb\">\n",
        "  <img src=\"https://colab.research.google.com/assets/colab-badge.svg\" alt=\"Open In Colab\"/>\n",
        "</a>\n",
        "\n",
        "[List of available Ollama LLMs.](https://ollama.com/library)  \n",
        "Note: This code will run in Colab but not in Windows. The reason is the Ollama setup. I do believe it would run on Linux in general, but haven't experimented outside of Google Colab.  \n",
        "\n",
        "#### Here's a list of isses to take care of:\n",
        "3. Make the monitoring chuck be a .py file as well  \n",
        "4. Enhance the `spin_up_LLM()` function to accommode for a remote LLM by OpenAI  \n",
        "5. **Managing Ollama Server Lifecycles:**\n",
        "    Currently, you use a background process (ollama serve). Consider a controlled lifecycle using Docker containers or managed processes (e.g., via supervisord or systemd).  \n",
        "6. [x] Break this notebook down to separate .py files to be sourced.  \n",
        "7. [x] Insert a Colab badge.  \n",
        "8. [x] Add a `.gitignore`:  \n",
        "       *.log\n",
        "9. [x] Apply \"**Explicit Error Handling**\" for each of the shell commands (see chat)  \n",
        "10. [x] **Resource Monitoring & Logging:**  \n",
        "    Capture and monitor resource utilization (CPU/GPU, memory usage) to ensure sustainable performance.  "
      ]
    },
    {
      "cell_type": "code",
      "execution_count": null,
      "metadata": {
        "id": "DOfafFsI4r2Z"
      },
      "outputs": [],
      "source": [
        "monitor_resources = True"
      ]
    },
    {
      "cell_type": "code",
      "execution_count": 4,
      "metadata": {
        "colab": {
          "base_uri": "https://localhost:8080/"
        },
        "id": "2-kJWXK4vYy8",
        "outputId": "ccf993b9-97e5-4d7f-f22a-8c9b990c9e91"
      },
      "outputs": [
        {
          "name": "stdout",
          "output_type": "stream",
          "text": [
            "🚀 Installing Ollama...\n",
            "🚀 Starting Ollama server...\n",
            "→ Ollama PID: 5610\n",
            "⏳ Waiting for Ollama to be ready…\n",
            "🚀 Pulling model 'gemma3'…\n",
            "Available models:\n",
            "NAME             ID              SIZE      MODIFIED               \n",
            "gemma3:latest    a2af6cc3eb7f    3.3 GB    Less than a second ago    \n",
            "\n",
            "🚀 Installing langchain-ollama…\n",
            "*   1 + 2\n",
            "*   3\n",
            "\n"
          ]
        }
      ],
      "source": [
        "# 1) import our helper\n",
        "from spin_up_LLM import spin_up_LLM\n",
        "\n",
        "# 2) choose your model name and mode\n",
        "llm_name = \"gemma3\"\n",
        "mode    = \"local\"   # or \"remote\" in future\n",
        "\n",
        "# 3) spin it up\n",
        "model = spin_up_LLM(chosen_llm=llm_name, local_or_remote=mode)\n",
        "\n",
        "# 4) use it immediately!\n",
        "from langchain_core.prompts import ChatPromptTemplate\n",
        "\n",
        "template = \"\"\"Question: {question}\n",
        "\n",
        "Answer: Let's think step by step. Provide your answer in concise bullet points!\"\"\"\n",
        "\n",
        "prompt = ChatPromptTemplate.from_template(template)\n",
        "chain  = prompt | model\n",
        "\n",
        "print(chain.invoke({\"question\": \"solve 1+2\"}))\n"
      ]
    },
    {
      "cell_type": "code",
      "execution_count": null,
      "metadata": {
        "colab": {
          "base_uri": "https://localhost:8080/"
        },
        "id": "NJCE8d87lSgb",
        "outputId": "77c39c0d-8e02-43fb-9f8b-4399fe8c08ce"
      },
      "outputs": [
        {
          "name": "stdout",
          "output_type": "stream",
          "text": [
            "Starting resource monitoring for 3600 seconds (logged to 'resource_usage.log')...\n"
          ]
        }
      ],
      "source": [
        "# This is a .py script to be sourced:\n",
        "# ------------- Resource Monitoring and Logging -------------\n",
        "from datetime import datetime\n",
        "import psutil\n",
        "import requests\n",
        "import threading\n",
        "\n",
        "def log_resource_usage(logfile='resource_usage.log', duration=60, interval=5):\n",
        "    \"\"\"\n",
        "    Logs CPU, Memory, and GPU utilization every `interval` seconds for `duration` seconds.\n",
        "    \"\"\"\n",
        "    print(f\"Starting resource monitoring for {duration} seconds (logged to '{logfile}')...\")\n",
        "    end_time = datetime.now().timestamp() + duration\n",
        "    with open(logfile, 'w') as f:\n",
        "        f.write(\"Timestamp,CPU_%,Memory_%,GPU_%\\n\")\n",
        "        while datetime.now().timestamp() < end_time:\n",
        "            timestamp = datetime.now().strftime('%Y-%m-%d %H:%M:%S')\n",
        "            cpu_usage = psutil.cpu_percent(interval=1)\n",
        "            memory_usage = psutil.virtual_memory().percent\n",
        "            gpu_usage = get_gpu_usage()\n",
        "            log_line = f\"{timestamp},{cpu_usage},{memory_usage},{gpu_usage}\\n\"\n",
        "            f.write(log_line)\n",
        "            f.flush()  # Flush header immediately\n",
        "            print(log_line.strip())\n",
        "            sleep(max(0, interval - 1))\n",
        "\n",
        "def get_gpu_usage():\n",
        "    \"\"\"\n",
        "    Returns GPU utilization (%) if an NVIDIA GPU is present, else returns 'N/A'.\n",
        "    Requires NVIDIA GPUs and nvidia-smi installed.\n",
        "    \"\"\"\n",
        "    try:\n",
        "        gpu_query = subprocess.check_output(\n",
        "            \"nvidia-smi --query-gpu=utilization.gpu --format=csv,noheader,nounits\",\n",
        "            shell=True, stderr=subprocess.DEVNULL, text=True\n",
        "        )\n",
        "        gpu_usage = gpu_query.strip().split(\"\\n\")[0]  # first GPU\n",
        "        return gpu_usage\n",
        "    except Exception:\n",
        "        return \"N/A\"\n",
        "\n",
        "\n",
        "# Start resource logging (in parallel, won't block):\n",
        "monitor_thread = threading.Thread(\n",
        "    target=log_resource_usage,\n",
        "    kwargs={'duration': 3600, 'interval': 10},\n",
        "    daemon=True\n",
        ")\n",
        "\n",
        "if monitor_resources:\n",
        "  monitor_thread.start()"
      ]
    },
    {
      "cell_type": "code",
      "execution_count": 5,
      "metadata": {
        "colab": {
          "base_uri": "https://localhost:8080/"
        },
        "id": "L5o4EfODWYmy",
        "outputId": "dacfdd94-38a6-4e93-9a63-fb73e0f47a25"
      },
      "outputs": [
        {
          "name": "stdout",
          "output_type": "stream",
          "text": [
            "You are a friend.\n"
          ]
        }
      ],
      "source": [
        "from langchain_core.prompts import ChatPromptTemplate\n",
        "\n",
        "template = \"\"\"Question: {question}\n",
        "\n",
        "Answer: Provide concise and simple answer!\"\"\"\n",
        "\n",
        "prompt = ChatPromptTemplate.from_template(template)\n",
        "\n",
        "chain = prompt | model\n",
        "\n",
        "print(chain.invoke({\"question\": \"What is a good way to continue this sentence: 'you is a ...'? It has to by syntactically correct!\"}))"
      ]
    }
  ],
  "metadata": {
    "accelerator": "GPU",
    "colab": {
      "gpuType": "T4",
      "provenance": []
    },
    "kernelspec": {
      "display_name": "Python 3",
      "name": "python3"
    },
    "language_info": {
      "codemirror_mode": {
        "name": "ipython",
        "version": 3
      },
      "file_extension": ".py",
      "mimetype": "text/x-python",
      "name": "python",
      "nbconvert_exporter": "python",
      "pygments_lexer": "ipython3",
      "version": "3.9.6"
    }
  },
  "nbformat": 4,
  "nbformat_minor": 0
}
