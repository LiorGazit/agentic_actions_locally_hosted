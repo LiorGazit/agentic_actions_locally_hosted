{
  "cells": [
    {
      "cell_type": "markdown",
      "metadata": {
        "id": "x0MJe6AusVtI"
      },
      "source": [
        "## Run Ollama in Colab\n",
        "<a target=\"_blank\" href=\"https://colab.research.google.com/github/LiorGazit/agentic_actions_locally_hosted/blob/main/run_ollama_in_colab.ipynb\">\n",
        "  <img src=\"https://colab.research.google.com/assets/colab-badge.svg\" alt=\"Open In Colab\"/>\n",
        "</a> (pick a GPU Colab session for fastest computing)  \n",
        "\n",
        "[List of available Ollama LLMs.](https://ollama.com/library)  \n",
        "Note: This code will run in Colab but not in Windows. The reason is the Ollama setup. I do believe it would run on Linux in general, but haven't experimented outside of Google Colab.  \n",
        "\n",
        "```\n",
        "Disclaimer: The content and ideas presented in this notebook are solely those of the author, Lior Gazit, and do not represent the views or intellectual property of the author's employer.\n",
        "```"
      ]
    },
    {
      "cell_type": "markdown",
      "metadata": {
        "id": "YEap5E85ub9C"
      },
      "source": [
        "Importing necessary functions:  "
      ]
    },
    {
      "cell_type": "markdown",
      "metadata": {
        "id": "svZ-rPd1ub9D"
      },
      "source": [
        "If this notebook is run outside of the repo's codes, get the necessary code from the remote repo:"
      ]
    },
    {
      "cell_type": "code",
      "execution_count": 1,
      "metadata": {
        "colab": {
          "base_uri": "https://localhost:8080/"
        },
        "id": "3pFVJNj0ub9D",
        "outputId": "9bb9fa50-0d62-4d10-e43e-62a4fec136d4"
      },
      "outputs": [
        {
          "output_type": "stream",
          "name": "stdout",
          "text": [
            "Downloaded spin_up_LLM.py from GitHub\n",
            "Downloaded monitor_resources.py from GitHub\n"
          ]
        }
      ],
      "source": [
        "import os\n",
        "import requests\n",
        "\n",
        "# If the module isn't already present (e.g. in Colab), fetch it from GitHub\n",
        "if not os.path.exists(\"spin_up_LLM.py\") or not os.path.exists(\"monitor_resources.py\"):\n",
        "    url = \"https://raw.githubusercontent.com/LiorGazit/agentic_actions_locally_hosted/refs/heads/main/spin_up_LLM.py\"\n",
        "    resp = requests.get(url)\n",
        "    resp.raise_for_status()\n",
        "    with open(\"spin_up_LLM.py\", \"w\") as f:\n",
        "        f.write(resp.text)\n",
        "    print(\"Downloaded spin_up_LLM.py from GitHub\")\n",
        "    url = \"https://raw.githubusercontent.com/LiorGazit/agentic_actions_locally_hosted/refs/heads/main/monitor_resources.py\"\n",
        "    resp = requests.get(url)\n",
        "    resp.raise_for_status()\n",
        "    with open(\"monitor_resources.py\", \"w\") as f:\n",
        "        f.write(resp.text)\n",
        "    print(\"Downloaded monitor_resources.py from GitHub\")"
      ]
    },
    {
      "cell_type": "code",
      "execution_count": 2,
      "metadata": {
        "id": "K9KPrCZaFkeU"
      },
      "outputs": [],
      "source": [
        "from spin_up_LLM import spin_up_LLM\n",
        "from monitor_resources import start_resource_monitoring"
      ]
    },
    {
      "cell_type": "markdown",
      "source": [
        "## Run either local LLM for free or remote LLM by OpenAI using your private API key\n",
        "Set the `mode` variable for your choice.  "
      ],
      "metadata": {
        "id": "RbZdNGrCvx6z"
      }
    },
    {
      "cell_type": "code",
      "execution_count": 3,
      "metadata": {
        "id": "y_5MY-pNvx62"
      },
      "outputs": [],
      "source": [
        "mode = \"remote\"   # If set to \"remote\", you must paste API key below!\n",
        "\n",
        "if mode == \"local\":\n",
        "  llm_name = \"gemma3\"\n",
        "  llm_provider = None\n",
        "elif mode == \"remote\":\n",
        "  # Choose your model name and mode\n",
        "  llm_name = \"gpt-4o\"\n",
        "  llm_provider = \"openai\"\n",
        "  os.environ[\"OPENAI_API_KEY\"] = \"INSERT OPENAI API KEY HERE\"\n",
        "\n",
        "# Toggle monitoring on/off:\n",
        "monitor_resources = True"
      ]
    },
    {
      "cell_type": "code",
      "execution_count": 4,
      "metadata": {
        "colab": {
          "base_uri": "https://localhost:8080/"
        },
        "outputId": "f8eed621-334e-4159-ac95-b30c0de7303f",
        "id": "gWolNe4Fvx64"
      },
      "outputs": [
        {
          "output_type": "stream",
          "name": "stdout",
          "text": [
            "🚀 Setting up remote OpenAI model…\n",
            "Installing langchain-openai...\n",
            "All done setting up OpenAI LLM.\n",
            "\n"
          ]
        }
      ],
      "source": [
        "# Sping up an LLM:\n",
        "model = spin_up_LLM(chosen_llm=llm_name, local_or_remote=mode, provider=llm_provider)"
      ]
    },
    {
      "cell_type": "code",
      "execution_count": 5,
      "metadata": {
        "colab": {
          "base_uri": "https://localhost:8080/"
        },
        "outputId": "9d095b01-e2cc-4246-fa83-91ef179a10ae",
        "id": "63OiCsIdvx66"
      },
      "outputs": [
        {
          "output_type": "stream",
          "name": "stdout",
          "text": [
            "Starting resource monitoring for 3600s (logging every 10s to 'resource_usage.log')\n",
            "→ Resource monitoring started (daemon thread).\n"
          ]
        }
      ],
      "source": [
        "# Resource monitoring (via monitor_resources.py)\n",
        "if monitor_resources:\n",
        "    # logs for 1h, every 10s, into 'resource_usage.log'\n",
        "    monitor_thread = start_resource_monitoring(\n",
        "        duration=3600,\n",
        "        interval=10,\n",
        "        logfile='resource_usage.log'\n",
        "    )\n"
      ]
    },
    {
      "cell_type": "code",
      "execution_count": 11,
      "metadata": {
        "colab": {
          "base_uri": "https://localhost:8080/"
        },
        "outputId": "ad50662c-8be0-407c-a9f6-94d06eb3b015",
        "id": "Rgh08hiGvx67"
      },
      "outputs": [
        {
          "output_type": "stream",
          "name": "stdout",
          "text": [
            "Answer: One way to continue the sentence could be 'you is a surprise,' though 'you are a' would be more grammatically correct.\n"
          ]
        }
      ],
      "source": [
        "from langchain_core.prompts import ChatPromptTemplate\n",
        "\n",
        "template = \"\"\"Question: {question}\n",
        "\n",
        "Answer: Provide concise and simple answer!\"\"\"\n",
        "\n",
        "prompt = ChatPromptTemplate.from_template(template)\n",
        "\n",
        "chain = prompt | model\n",
        "\n",
        "if mode == \"local\":\n",
        "  print(chain.invoke({\"question\": \"What is a good way to continue this sentence: 'you is a ...'? It has to by syntactically correct!\"}))\n",
        "elif mode == \"remote\":\n",
        "  print(chain.invoke({\"question\": \"What is a good way to continue this sentence: 'you is a ...'? It has to by syntactically correct!\"}).content)"
      ]
    }
  ],
  "metadata": {
    "accelerator": "GPU",
    "colab": {
      "gpuType": "T4",
      "provenance": []
    },
    "kernelspec": {
      "display_name": "Python 3",
      "name": "python3"
    },
    "language_info": {
      "codemirror_mode": {
        "name": "ipython",
        "version": 3
      },
      "file_extension": ".py",
      "mimetype": "text/x-python",
      "name": "python",
      "nbconvert_exporter": "python",
      "pygments_lexer": "ipython3",
      "version": "3.9.6"
    }
  },
  "nbformat": 4,
  "nbformat_minor": 0
}