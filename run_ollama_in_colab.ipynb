{
  "cells": [
    {
      "cell_type": "markdown",
      "metadata": {
        "id": "x0MJe6AusVtI"
      },
      "source": [
        "## Run Ollama in Colab\n",
        "<a target=\"_blank\" href=\"https://colab.research.google.com/github/LiorGazit/agentic_actions_locally_hosted/blob/main/run_ollama_in_colab.ipynb\">\n",
        "  <img src=\"https://colab.research.google.com/assets/colab-badge.svg\" alt=\"Open In Colab\"/>\n",
        "</a>\n",
        "\n",
        "[List of available Ollama LLMs.](https://ollama.com/library)  \n",
        "Note: This code will run in Colab but not in Windows. The reason is the Ollama setup. I do believe it would run on Linux in general, but haven't experimented outside of Google Colab.  \n",
        "\n",
        "#### Here's a list of isses to take care of:\n",
        "2. Break this notebook down to separate .py files to be sourced.  \n",
        "3. **Managing Ollama Server Lifecycles:**\n",
        "    Currently, you use a background process (ollama serve). Consider a controlled lifecycle using Docker containers or managed processes (e.g., via supervisord or systemd).  \n",
        "1. Insert a Colab badge.  \n",
        "4. [x] Add a `.gitignore`:  \n",
        "       *.log \n",
        "5. [x] Apply \"**Explicit Error Handling**\" for each of the shell commands (see chat)  \n",
        "6. [x] **Resource Monitoring & Logging:**  \n",
        "    Capture and monitor resource utilization (CPU/GPU, memory usage) to ensure sustainable performance.  "
      ]
    },
    {
      "cell_type": "code",
      "execution_count": 3,
      "metadata": {
        "id": "DOfafFsI4r2Z"
      },
      "outputs": [],
      "source": [
        "monitor_resources = True"
      ]
    },
    {
      "cell_type": "code",
      "execution_count": 4,
      "metadata": {
        "colab": {
          "base_uri": "https://localhost:8080/"
        },
        "id": "2-kJWXK4vYy8",
        "outputId": "dab8c7dd-370f-48fc-c9d6-bf334a4e63db"
      },
      "outputs": [
        {
          "name": "stdout",
          "output_type": "stream",
          "text": [
            "Ollama is already installed.\n",
            "Starting Ollama server...\n",
            "Started Ollama process with PID: 1757\n",
            "Waiting for Ollama server to be ready...\n",
            "Ollama server is ready.\n",
            "Pulling 'gemma3' LLM model...\n",
            "Available models:\n",
            "NAME             ID              SIZE      MODIFIED               \n",
            "gemma3:latest    a2af6cc3eb7f    3.3 GB    Less than a second ago    \n",
            "\n",
            "Installing langchain-ollama via pip.\n",
            "LLM setup complete and ready for use.\n"
          ]
        }
      ],
      "source": [
        "# This is a .py script to be sourced: (I will need to format it as a separate file to be called with a variable llm_name)\n",
        "import shutil\n",
        "import subprocess\n",
        "from time import sleep\n",
        "import requests\n",
        "\n",
        "# Choice of LLM:\n",
        "llm_name = \"gemma3\"  # \"mistral-small\"  # \"mistral\"\n",
        "\n",
        "# Install Ollama via shell\n",
        "if shutil.which('ollama') is None:\n",
        "    print(\"Ollama not found, installing...\")\n",
        "    shell_output_curl_command = subprocess.run(\n",
        "        'curl https://ollama.ai/install.sh | sh',\n",
        "        capture_output=True, text=True, shell=True\n",
        "    )\n",
        "    if shell_output_curl_command.returncode != 0:\n",
        "        raise RuntimeError(f\"Error installing Ollama: {shell_output_curl_command.stderr}\")\n",
        "else:\n",
        "    print(\"Ollama is already installed.\")\n",
        "\n",
        "# Start Ollama server in background\n",
        "print(\"Starting Ollama server...\")\n",
        "process_serve = subprocess.Popen(\n",
        "    'OLLAMA_HOST=127.0.0.1:11434 ollama serve > serve.log 2>&1 &',\n",
        "    stdout=subprocess.PIPE, stderr=subprocess.PIPE, shell=True\n",
        ")\n",
        "print(f\"Started Ollama process with PID: {process_serve.pid}\")\n",
        "\n",
        "# Function to ensure Ollama is ready\n",
        "def wait_for_ollama_ready(timeout=15):\n",
        "    print(\"Waiting for Ollama server to be ready...\")\n",
        "    for _ in range(timeout):\n",
        "        try:\n",
        "            response = requests.get(\"http://localhost:11434\")\n",
        "            if response.status_code == 200:\n",
        "                print(\"Ollama server is ready.\")\n",
        "                return\n",
        "        except requests.exceptions.ConnectionError:\n",
        "            sleep(1)\n",
        "    raise RuntimeError(\"Ollama server failed to start within timeout.\")\n",
        "\n",
        "wait_for_ollama_ready()\n",
        "\n",
        "# Pull LLM model\n",
        "print(f\"Pulling '{llm_name}' LLM model...\")\n",
        "shell_output_pull_LLM = subprocess.run(\n",
        "    f'ollama pull {llm_name}', capture_output=True, text=True, shell=True\n",
        ")\n",
        "if shell_output_pull_LLM.returncode != 0:\n",
        "    raise RuntimeError(f\"Error pulling '{llm_name}': {shell_output_pull_LLM.stderr}\")\n",
        "\n",
        "# Verify available models\n",
        "shell_output_models_list = subprocess.run(\n",
        "    'ollama list', capture_output=True, text=True, shell=True\n",
        ")\n",
        "if shell_output_models_list.returncode != 0:\n",
        "    raise RuntimeError(f\"Error listing models: {shell_output_models_list.stderr}\")\n",
        "else:\n",
        "    print(f\"Available models:\\n{shell_output_models_list.stdout}\")\n",
        "\n",
        "# Install LangChain Ollama integration\n",
        "print(\"Installing langchain-ollama via pip.\")\n",
        "pip_langchainollama_command = subprocess.run(\n",
        "    'pip install -U langchain-ollama', capture_output=True, text=True, shell=True\n",
        ")\n",
        "if pip_langchainollama_command.returncode != 0:\n",
        "    raise RuntimeError(f\"Error installing 'langchain-ollama': {pip_langchainollama_command.stderr}\")\n",
        "\n",
        "# Import and configure LLM\n",
        "from langchain_ollama.llms import OllamaLLM\n",
        "model = OllamaLLM(model=llm_name)\n",
        "\n",
        "print(\"LLM setup complete and ready for use.\")\n"
      ]
    },
    {
      "cell_type": "code",
      "execution_count": 5,
      "metadata": {
        "colab": {
          "base_uri": "https://localhost:8080/"
        },
        "id": "NJCE8d87lSgb",
        "outputId": "77c39c0d-8e02-43fb-9f8b-4399fe8c08ce"
      },
      "outputs": [
        {
          "name": "stdout",
          "output_type": "stream",
          "text": [
            "Starting resource monitoring for 3600 seconds (logged to 'resource_usage.log')...\n"
          ]
        }
      ],
      "source": [
        "# This is a .py script to be sourced:\n",
        "# ------------- Resource Monitoring and Logging -------------\n",
        "from datetime import datetime\n",
        "import psutil\n",
        "import requests\n",
        "import threading\n",
        "\n",
        "def log_resource_usage(logfile='resource_usage.log', duration=60, interval=5):\n",
        "    \"\"\"\n",
        "    Logs CPU, Memory, and GPU utilization every `interval` seconds for `duration` seconds.\n",
        "    \"\"\"\n",
        "    print(f\"Starting resource monitoring for {duration} seconds (logged to '{logfile}')...\")\n",
        "    end_time = datetime.now().timestamp() + duration\n",
        "    with open(logfile, 'w') as f:\n",
        "        f.write(\"Timestamp,CPU_%,Memory_%,GPU_%\\n\")\n",
        "        while datetime.now().timestamp() < end_time:\n",
        "            timestamp = datetime.now().strftime('%Y-%m-%d %H:%M:%S')\n",
        "            cpu_usage = psutil.cpu_percent(interval=1)\n",
        "            memory_usage = psutil.virtual_memory().percent\n",
        "            gpu_usage = get_gpu_usage()\n",
        "            log_line = f\"{timestamp},{cpu_usage},{memory_usage},{gpu_usage}\\n\"\n",
        "            f.write(log_line)\n",
        "            f.flush()  # Flush header immediately\n",
        "            print(log_line.strip())\n",
        "            sleep(max(0, interval - 1))\n",
        "\n",
        "def get_gpu_usage():\n",
        "    \"\"\"\n",
        "    Returns GPU utilization (%) if an NVIDIA GPU is present, else returns 'N/A'.\n",
        "    Requires NVIDIA GPUs and nvidia-smi installed.\n",
        "    \"\"\"\n",
        "    try:\n",
        "        gpu_query = subprocess.check_output(\n",
        "            \"nvidia-smi --query-gpu=utilization.gpu --format=csv,noheader,nounits\",\n",
        "            shell=True, stderr=subprocess.DEVNULL, text=True\n",
        "        )\n",
        "        gpu_usage = gpu_query.strip().split(\"\\n\")[0]  # first GPU\n",
        "        return gpu_usage\n",
        "    except Exception:\n",
        "        return \"N/A\"\n",
        "\n",
        "\n",
        "# Start resource logging (in parallel, won't block):\n",
        "monitor_thread = threading.Thread(\n",
        "    target=log_resource_usage,\n",
        "    kwargs={'duration': 3600, 'interval': 10},\n",
        "    daemon=True\n",
        ")\n",
        "\n",
        "if monitor_resources:\n",
        "  monitor_thread.start()"
      ]
    },
    {
      "cell_type": "code",
      "execution_count": 6,
      "metadata": {
        "colab": {
          "base_uri": "https://localhost:8080/"
        },
        "id": "L5o4EfODWYmy",
        "outputId": "3707fffc-e888-48e5-cf70-1a26cd28c6b7"
      },
      "outputs": [
        {
          "name": "stdout",
          "output_type": "stream",
          "text": [
            "2025-05-11 14:24:40,95.5,8.8,0\n",
            "2025-05-11 14:24:50,57.5,42.8,0\n",
            "2025-05-11 14:25:00,52.5,42.8,0\n",
            "2025-05-11 14:25:10,54.0,42.9,0\n",
            "2025-05-11 14:25:20,53.2,42.8,0\n",
            "2025-05-11 14:25:30,99.5,42.9,0\n",
            "2025-05-11 14:25:40,52.5,42.7,0\n",
            "2025-05-11 14:25:50,52.5,42.5,0\n",
            "2025-05-11 14:26:00,52.8,42.6,0\n",
            "2025-05-11 14:26:10,52.8,42.6,0\n",
            "2025-05-11 14:26:20,99.5,42.7,0\n",
            "2025-05-11 14:26:30,52.5,42.5,0\n",
            "2025-05-11 14:26:40,52.0,42.6,0\n",
            "2025-05-11 14:26:50,53.2,42.2,0\n",
            "2025-05-11 14:27:00,53.0,42.4,0\n",
            "You are a friend.\n"
          ]
        }
      ],
      "source": [
        "from langchain_core.prompts import ChatPromptTemplate\n",
        "\n",
        "template = \"\"\"Question: {question}\n",
        "\n",
        "Answer: Provide concise and simple answer!\"\"\"\n",
        "\n",
        "prompt = ChatPromptTemplate.from_template(template)\n",
        "\n",
        "chain = prompt | model\n",
        "\n",
        "print(chain.invoke({\"question\": \"What is a good way to continue this sentence: 'you is a ...'? It has to by syntactically correct!\"}))"
      ]
    }
  ],
  "metadata": {
    "accelerator": "GPU",
    "colab": {
      "gpuType": "T4",
      "provenance": []
    },
    "kernelspec": {
      "display_name": "Python 3",
      "name": "python3"
    },
    "language_info": {
      "codemirror_mode": {
        "name": "ipython",
        "version": 3
      },
      "file_extension": ".py",
      "mimetype": "text/x-python",
      "name": "python",
      "nbconvert_exporter": "python",
      "pygments_lexer": "ipython3",
      "version": "3.9.6"
    }
  },
  "nbformat": 4,
  "nbformat_minor": 0
}
