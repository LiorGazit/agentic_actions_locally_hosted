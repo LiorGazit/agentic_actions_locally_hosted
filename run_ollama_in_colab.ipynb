{
  "cells": [
    {
      "cell_type": "markdown",
      "metadata": {
        "id": "x0MJe6AusVtI"
      },
      "source": [
        "## Run Ollama in Colab\n",
        "<a target=\"_blank\" href=\"https://colab.research.google.com/github/LiorGazit/agentic_actions_locally_hosted/blob/main/run_ollama_in_colab.ipynb\">\n",
        "  <img src=\"https://colab.research.google.com/assets/colab-badge.svg\" alt=\"Open In Colab\"/>\n",
        "</a>\n",
        "\n",
        "[List of available Ollama LLMs.](https://ollama.com/library)  \n",
        "Note: This code will run in Colab but not in Windows. The reason is the Ollama setup. I do believe it would run on Linux in general, but haven't experimented outside of Google Colab.  \n",
        "\n",
        "#### Here's a list of isses to take care of:\n",
        "3. Make the monitoring chuck be a .py file as well  \n",
        "4. Enhance the `spin_up_LLM()` function to accommode for a remote LLM by OpenAI  \n",
        "5. **Managing Ollama Server Lifecycles:**\n",
        "    Currently, you use a background process (ollama serve). Consider a controlled lifecycle using Docker containers or managed processes (e.g., via supervisord or systemd).  \n",
        "6. [x] Break this notebook down to separate .py files to be sourced.  \n",
        "7. [x] Insert a Colab badge.  \n",
        "8. [x] Add a `.gitignore`:  \n",
        "       *.log\n",
        "9. [x] Apply \"**Explicit Error Handling**\" for each of the shell commands (see chat)  \n",
        "10. [x] **Resource Monitoring & Logging:**  \n",
        "    Capture and monitor resource utilization (CPU/GPU, memory usage) to ensure sustainable performance.  "
      ]
    },
    {
      "cell_type": "code",
      "source": [
        "from spin_up_LLM import spin_up_LLM\n",
        "from monitor_resources import start_resource_monitoring"
      ],
      "metadata": {
        "id": "K9KPrCZaFkeU"
      },
      "execution_count": 1,
      "outputs": []
    },
    {
      "cell_type": "code",
      "execution_count": 2,
      "metadata": {
        "id": "DOfafFsI4r2Z"
      },
      "outputs": [],
      "source": [
        "# Choose your model name and mode\n",
        "llm_name = \"gemma3\"\n",
        "mode = \"local\"   # or \"remote\" in future\n",
        "\n",
        "# Toggle monitoring on/off:\n",
        "monitor_resources = True"
      ]
    },
    {
      "cell_type": "code",
      "execution_count": 3,
      "metadata": {
        "colab": {
          "base_uri": "https://localhost:8080/"
        },
        "id": "2-kJWXK4vYy8",
        "outputId": "f34a93f3-8d7f-481b-e1c4-ee86c4e484a1"
      },
      "outputs": [
        {
          "output_type": "stream",
          "name": "stdout",
          "text": [
            "🚀 Starting Ollama server...\n",
            "→ Ollama PID: 9603\n",
            "⏳ Waiting for Ollama to be ready…\n",
            "🚀 Pulling model 'gemma3'…\n",
            "Available models:\n",
            "NAME             ID              SIZE      MODIFIED               \n",
            "gemma3:latest    a2af6cc3eb7f    3.3 GB    Less than a second ago    \n",
            "\n",
            "🚀 Installing langchain-ollama…\n"
          ]
        }
      ],
      "source": [
        "# Sping up an LLM:\n",
        "model = spin_up_LLM(chosen_llm=llm_name, local_or_remote=mode)"
      ]
    },
    {
      "cell_type": "code",
      "execution_count": 4,
      "metadata": {
        "colab": {
          "base_uri": "https://localhost:8080/"
        },
        "id": "NJCE8d87lSgb",
        "outputId": "a2a30c98-285e-48af-dcfb-0aac9d339027"
      },
      "outputs": [
        {
          "output_type": "stream",
          "name": "stdout",
          "text": [
            "Starting resource monitoring for 3600s (logging every 10s to 'resource_usage.log')\n",
            "→ Resource monitoring started (daemon thread).\n"
          ]
        }
      ],
      "source": [
        "# Resource monitoring (via monitor_resources.py)\n",
        "if monitor_resources:\n",
        "    # logs for 1h, every 10s, into 'resource_usage.log'\n",
        "    monitor_thread = start_resource_monitoring(\n",
        "        duration=3600,\n",
        "        interval=10,\n",
        "        logfile='resource_usage.log'\n",
        "    )\n"
      ]
    },
    {
      "cell_type": "code",
      "execution_count": 5,
      "metadata": {
        "colab": {
          "base_uri": "https://localhost:8080/"
        },
        "id": "L5o4EfODWYmy",
        "outputId": "6c38e5be-f2f6-47e0-a393-10b64c5d41b0"
      },
      "outputs": [
        {
          "output_type": "stream",
          "name": "stdout",
          "text": [
            "2025-05-24 21:00:33,81.5,10.7,0\n",
            "You are a friend.\n"
          ]
        }
      ],
      "source": [
        "from langchain_core.prompts import ChatPromptTemplate\n",
        "\n",
        "template = \"\"\"Question: {question}\n",
        "\n",
        "Answer: Provide concise and simple answer!\"\"\"\n",
        "\n",
        "prompt = ChatPromptTemplate.from_template(template)\n",
        "\n",
        "chain = prompt | model\n",
        "\n",
        "print(chain.invoke({\"question\": \"What is a good way to continue this sentence: 'you is a ...'? It has to by syntactically correct!\"}))"
      ]
    },
    {
      "cell_type": "code",
      "source": [],
      "metadata": {
        "id": "PtZqxD-8F1Xj"
      },
      "execution_count": 5,
      "outputs": []
    }
  ],
  "metadata": {
    "accelerator": "GPU",
    "colab": {
      "gpuType": "T4",
      "provenance": []
    },
    "kernelspec": {
      "display_name": "Python 3",
      "name": "python3"
    },
    "language_info": {
      "codemirror_mode": {
        "name": "ipython",
        "version": 3
      },
      "file_extension": ".py",
      "mimetype": "text/x-python",
      "name": "python",
      "nbconvert_exporter": "python",
      "pygments_lexer": "ipython3",
      "version": "3.9.6"
    }
  },
  "nbformat": 4,
  "nbformat_minor": 0
}